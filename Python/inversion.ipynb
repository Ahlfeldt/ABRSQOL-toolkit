{
 "cells": [
  {
   "cell_type": "code",
   "execution_count": 184,
   "metadata": {},
   "outputs": [],
   "source": [
    "from pandas import read_csv\n",
    "from numpy import exp, array, ones"
   ]
  },
  {
   "cell_type": "code",
   "execution_count": null,
   "metadata": {},
   "outputs": [],
   "source": [
    "# read in test data"
   ]
  },
  {
   "cell_type": "code",
   "execution_count": 195,
   "metadata": {},
   "outputs": [],
   "source": [
    "from setuptools import setup"
   ]
  },
  {
   "cell_type": "code",
   "execution_count": 79,
   "metadata": {},
   "outputs": [],
   "source": [
    "ABRSQOL_testdata = read_csv('../DATA/ABRSQOL-testdata.csv')"
   ]
  },
  {
   "cell_type": "code",
   "execution_count": 194,
   "metadata": {},
   "outputs": [
    {
     "name": "stdout",
     "output_type": "stream",
     "text": [
      "\n",
      "Begin loop to solve for quality of life measure:\n",
      "\n",
      "Itertion 110/10000, value of objective function: 1.0582185521867881e-10 > 1e-10\n",
      "QoL variable generated.\n"
     ]
    }
   ],
   "source": [
    "ABRSQOL_testdata['QoL'] = ABRSQOL(df=ABRSQOL_testdata)"
   ]
  },
  {
   "cell_type": "code",
   "execution_count": 193,
   "metadata": {},
   "outputs": [],
   "source": [
    "def ABRSQOL(\n",
    "  df, # data.frame or matrix containing dataset\n",
    "\n",
    "  # SPECIFY VARIABLES NAMES OR COLUMN INDEX\n",
    "  w = 'w', # 2: Wage index\n",
    "  p_H = 'p_H', # 3: Floor space price index\n",
    "  P_t = 'P_t', # 4: Tradable goods price index\n",
    "  p_n = 'p_n', # 5: Local services price index\n",
    "  L = 'L', # 6: Residence population\n",
    "  L_b = 'L_b', # 7: Hometown population\n",
    "\n",
    "  # DEFINE PARAMETER VALUES\n",
    "  alpha:float = 0.7, #income share on non-housing 1-alpha expenditure on housing (Source: Statistisches Bundesamt, 2020)\n",
    "  beta:float = 0.5, # share of alpha that is spent on tradable good\n",
    "  gamma:float = 3, # Own calculations\n",
    "  xi:float = 5.5, # Own calculations\n",
    "  # CONVERGENCE AND STOPPING PARAMETERS\n",
    "  conv:float = 0.5, # convergence parameter\n",
    "  tolerance:float = 1e-10, # Tolerance level for loop\n",
    "  maxiter:int = 10000\n",
    "):\n",
    "\n",
    "  # Extract key variables from input dataframe/matrix\n",
    "  # shape is JxTheta:\n",
    "  L_b = df[[L_b] if type(L_b) not in [list, array] else L_b].values\n",
    "  L = df[[L] if type(L) not in [list, array] else L].values\n",
    "  w = df[[w] if type(w) not in [list, array] else w].values\n",
    "  # shape is Jx1:\n",
    "  P_t = df[[P_t]].values\n",
    "  p_H = df[[p_H]].values\n",
    "  p_n = df[[p_n]].values\n",
    "  \n",
    "\n",
    "  # if there are unequal number of rows (n_obs) among variables throw error\n",
    "  if len(set([len(L_b),len(L),len(w),len(P_t),len(p_H),len(p_n)])) != 1:\n",
    "    raise ValueError(\"\\nDimension mismatch: variables do not have the same length:\",\n",
    "    \"\\nL_b: \",len(L_b), \"\\nL: \",len(L),\"\\nw: \",len(w),\n",
    "    \"\\nP_t: \",len(P_t),\"\\np_H: \",len(p_H),\"\\np_n: \",len(p_n))\n",
    "  \n",
    "  # else save units of observation as J\n",
    "  J = len(L_b)\n",
    "\n",
    "  # if there are unequal number of dimensions throw an error\n",
    "  if len(set([L_b.shape[1],L.shape[1],w.shape[1]])) != 1:\n",
    "    raise ValueError(\"\\nDimension mismatch: variables do not have the same number of columns:\",\n",
    "    \"\\nL_b: \",L_b.shape[1], \"\\nL: \",L.shape[1],\"\\nw:\", w.shape[1])\n",
    "  \n",
    "  # else assign theta as the number of dimensions (mostly will be 1)\n",
    "  Theta = L_b.shape[1]\n",
    "\n",
    "\n",
    "  ## Inversion\n",
    "  \n",
    "  # Adjust L_b to have same sum as L\n",
    "  L_bar = L.sum(axis=0) # total number of workers in dataset\n",
    "  L_b_adjust = L_bar / L_b.sum(axis=0)\n",
    "  L_b = L_b * L_b_adjust\n",
    "  \n",
    "  # Express all variables in relative differences\n",
    "  # Calculate relative employment, L_hat\n",
    "  L_hat = L / L[0]\n",
    "  # Calculate relative wages, w_hat\n",
    "  w_hat = w / w[0]\n",
    "  # Calculate relative price levels\n",
    "  P_t_hat = P_t / P_t[0]\n",
    "  p_H_hat = p_H / p_H[0]\n",
    "  p_n_hat = p_n / p_n[0]\n",
    "\n",
    "  # Calculate aggregate price level\n",
    "  P_hat = (P_t_hat **(alpha * beta)) * (p_n_hat **(alpha *(1-beta)))  * (p_H_hat **(1-alpha))\n",
    "  P     = (P_t     **(alpha * beta)) * (p_n     **(alpha *(1-beta)))  * (p_H     **(1-alpha))\n",
    "\n",
    "  # Relative Quality of life (A_hat)\n",
    "  # Guess values relative QoL\n",
    "  A_hat = ones(shape=(J, Theta)) # First guess: all locations have the same QoL\n",
    "  A = A_hat\n",
    "  \n",
    "  O_vector_total = list() # list to track convergence\n",
    "  O_total = 100000 # Starting value for loop  \n",
    "  count = 1 # Counts the number of iterations\n",
    "\n",
    "  print(\"\\nBegin loop to solve for quality of life measure:\\n\")\n",
    "  while (O_total > tolerance) and (count <= maxiter):\n",
    "    print(\"Itertion \"+str(count)+\"/\"+str(maxiter)+\n",
    "          \", value of objective function: \"+str(O_total)+\" > \"+str(tolerance), end=\"\\r\")\n",
    "\n",
    "    # (1) Calculate model-consistent aggregation shares, Psi_b\n",
    "    nom = (A * w / P) **(gamma)\n",
    "    Psi_b = ((exp(xi) - 1) * nom / nom.sum(axis=0) + 1)**-1\n",
    "\n",
    "    # (2) Calculate mathcal_L\n",
    "    mathcal_L = ((L_b * Psi_b).sum(axis=0) + (L_b *Psi_b *(exp(xi) - 1)))\n",
    "    \n",
    "    # (3) Calculate relative mathcal_L\n",
    "    mathcal_L_hat = mathcal_L/mathcal_L[0]\n",
    "\n",
    "    # (4) Calculate relative QoL, A_hat, according to equation (17)\n",
    "    A_hat_up = P_hat * (1 / w_hat) * (L_hat / mathcal_L_hat) **(1 /gamma)\n",
    "\n",
    "    # (5) Calculate deviations from inital guesses for QoL levels\n",
    "    # print('A_hat_up-A_hat',A_hat_up.shape,A_hat.shape, A_hat_up,A_hat)\n",
    "    O_total = abs(A_hat_up-A_hat).sum()/J\n",
    "    O_vector_total.append(O_total)\n",
    "\n",
    "    # Update QoL levels for next iteration of loop\n",
    "    A_hat = conv * A_hat_up + (1-conv) * A_hat\n",
    "    A = A_hat\n",
    "\n",
    "    # Next iteration\n",
    "    count += 1\n",
    "  #\n",
    "  print(\"\\nQuality of life measure generated and returned as vector.\")\n",
    "  # return simple vector / array of shape=(J,)\n",
    "  return(A[:,0])"
   ]
  }
 ],
 "metadata": {
  "kernelspec": {
   "display_name": "base",
   "language": "python",
   "name": "python3"
  },
  "language_info": {
   "codemirror_mode": {
    "name": "ipython",
    "version": 3
   },
   "file_extension": ".py",
   "mimetype": "text/x-python",
   "name": "python",
   "nbconvert_exporter": "python",
   "pygments_lexer": "ipython3",
   "version": "3.8.8"
  }
 },
 "nbformat": 4,
 "nbformat_minor": 2
}
