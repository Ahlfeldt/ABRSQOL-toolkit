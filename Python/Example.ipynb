{
 "cells": [
  {
   "cell_type": "code",
   "execution_count": null,
   "metadata": {},
   "outputs": [],
   "source": [
    "################################################################################\n",
    "### Illustrative application of the ABRSQOL-toolkit based on                 \n",
    "### Ahlfeldt, Bald, Roth, Seidel:                                            \n",
    "### Measuring quality of life under spatial frictions                        \t                                                            \t\t\t\t\t\t\t\t\t\t\t\n",
    "### 10/2024                                                                  \n",
    "################################################################################"
   ]
  },
  {
   "cell_type": "code",
   "execution_count": null,
   "metadata": {},
   "outputs": [],
   "source": [
    "# This is an example code that you can execute as an Python script\n",
    "\n",
    "# Install and run ABRSQOL-toolkit\n",
    "# install package into your environment through your console via\n",
    "# pip install \"git+https://git@github.com/Ahlfeldt/ABRSQOL-toolkit.git#subdirectory=Python&egg=ABRSQOL\""
   ]
  },
  {
   "cell_type": "code",
   "execution_count": 184,
   "metadata": {},
   "outputs": [],
   "source": [
    "import ABRSQOL\n",
    "from pandas import read_csv\n",
    "import os"
   ]
  },
  {
   "cell_type": "code",
   "execution_count": null,
   "metadata": {},
   "outputs": [],
   "source": [
    "# Load your data. You can replace the URL in \"\" with a local path on your machine, e.g. \"c:\\temp\\ABRSQOL-testdata.csv\"\n",
    "my_dataframe <- read_csv(\"https://raw.githubusercontent.com/Ahlfeldt/ABRSQOL-toolkit/main/DATA/ABRSQOL-testdata.csv\")\n",
    "# or load testdata to inspect format requierement of input data\n",
    "# my_dataframe = ABRSQOL.testdata"
   ]
  },
  {
   "cell_type": "code",
   "execution_count": null,
   "metadata": {},
   "outputs": [],
   "source": [
    "# Use ABRSQOL to solve for quality of life \n",
    "my_dataframe['QoL1'] = ABRSQOL.invert_quality_of_life(\n",
    "  # supply your dataset as a dataframe\n",
    "  df=my_dataframe,\n",
    "  # specify the corresponding variable name for your data set. \n",
    "  # E.g., if your variable is named wage, use 'wage' instead of 'w'\n",
    "  w = 'w',\n",
    "  p_H = 'p_H',\n",
    "  P_t = 'P_t',\n",
    "  p_n = 'p_n',\n",
    "  L = 'L',\n",
    "  L_b = 'L_b',\n",
    "  # freely adjust remaining parameters\n",
    "  alpha = 0.7,\n",
    "  beta = 0.5,\n",
    "  gamma = 3,\n",
    "  xi = 5,\n",
    "  conv = 0.3,\n",
    "  tolerance = 1e-11,\n",
    "  maxiter = 50000\n",
    ")\n",
    "# To check current working directory\n",
    "print(os.getcwd())\n",
    "# Write output to target folder (just replace the path)\n",
    "my_dataframe.to_csv('my_data_with_qol.csv', index=False)\n",
    "# show first rows of dataframe\n",
    "my_dataframe.describe()"
   ]
  },
  {
   "cell_type": "code",
   "execution_count": null,
   "metadata": {},
   "outputs": [],
   "source": [
    "# only df argument is required.\n",
    "# Whenever you don't specify another argument its defaul value will be used.\n",
    "# In this case assume all variables in my_dataframe are named as default,\n",
    "# except for L (residence population) and L_b (hometown population)\n",
    "my_dataframe['QoL2'] = ABRSQOL.invert_quality_of_life(\n",
    "  df=my_dataframe,\n",
    "  L = 'residence_pop',\n",
    "  L_b = 'home_pop',\n",
    "  alpha = 0.7,\n",
    "  beta = 0.5,\n",
    "  gamma = 3,\n",
    "  xi = 5.5,\n",
    "  conv = 0.5\n",
    ")\n",
    "# show first rows of dataframe\n",
    "my_dataframe.describe()"
   ]
  }
 ],
 "metadata": {
  "kernelspec": {
   "display_name": "base",
   "language": "python",
   "name": "python3"
  },
  "language_info": {
   "codemirror_mode": {
    "name": "ipython",
    "version": 3
   },
   "file_extension": ".py",
   "mimetype": "text/x-python",
   "name": "python",
   "nbconvert_exporter": "python",
   "pygments_lexer": "ipython3",
   "version": "3.8.8"
  }
 },
 "nbformat": 4,
 "nbformat_minor": 2
}
